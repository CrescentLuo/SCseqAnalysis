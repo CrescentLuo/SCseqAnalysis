{
 "cells": [
  {
   "cell_type": "markdown",
   "metadata": {
    "nbpresent": {
     "id": "08114521-f802-412a-b989-2530c7f1878e"
    }
   },
   "source": [
    "Giving a group of cells:\n",
    "$$ \\left\\{ i \\mid i\\in \\mathbb{C}_g \\right\\} $$\n",
    "\n",
    "Reference cells:\n",
    "$$ \\left\\{ r \\mid r\\in \\mathbb{C}_{gr} \\,\\text{and}\\, \\mathbb{C}_{gr}\\in\\mathbb{C}_g \\right\\} $$\n",
    "\n",
    "Log expression difference:\n",
    "$$ r_{ir\\_j} = \\log({e_{ij}}) - \\log({e_{rj}}) $$\n",
    "\n",
    "Scaling factor:\n",
    "$$ s_{ir} = \\underset{j,j\\in\\mathbb{S}_J}{\\operatorname{\\sum}} = \\left. r_{ir\\_j}\\middle/ \\right.  \\left|\\mathbb{S}_J\\right| $$ where $\\left|\\mathbb{S}_J\\right|$ is the number of genes\n",
    "\n",
    "Relate different reference cells:\n",
    "$$ \\left\\{ \\hat{a}_r \\mid r\\in\\mathbb{C}_{gr} \\right\\} = \\underset{a_r,r\\in\\mathbb{C}_{gr}}{\\operatorname{\\arg\\max}} \\sum_{i\\in\\mathbb{C}_{gr}} \\underset{r\\in\\mathbb{C}_{gr}}{\\operatorname{Var}}[\\log(s_{ir}) - \\log(a_r)] $$\n",
    "\n",
    "Estimated scaling factors:\n",
    "$$ s_i = \\underset{r\\in\\mathbb{C}_{gr}}{\\operatorname{median}} \\left( \\frac{s_{ir}}{\\hat{a}_r} \\right) $$\n",
    "\n",
    "Expression of gene *j* in group *g* :\n",
    "$$ e_{gi} = \\sum_{i\\in\\mathbb{C}_g} e'_{ij}$$\n",
    "where $e'_{ij}$ is the normalized expression level.\n",
    "\n"
   ]
  },
  {
   "cell_type": "code",
   "execution_count": 2,
   "metadata": {
    "collapsed": true,
    "nbpresent": {
     "id": "4ba94e90-6135-4c45-8732-7b7050dace76"
    }
   },
   "outputs": [],
   "source": [
    "import numpy as np\n",
    "\n"
   ]
  },
  {
   "cell_type": "code",
   "execution_count": null,
   "metadata": {
    "collapsed": true,
    "nbpresent": {
     "id": "071ae436-adb8-4305-b80f-857aeef6762e"
    }
   },
   "outputs": [],
   "source": []
  }
 ],
 "metadata": {
  "anaconda-cloud": {},
  "kernelspec": {
   "display_name": "Python [conda root]",
   "language": "python",
   "name": "conda-root-py"
  },
  "language_info": {
   "codemirror_mode": {
    "name": "ipython",
    "version": 2
   },
   "file_extension": ".py",
   "mimetype": "text/x-python",
   "name": "python",
   "nbconvert_exporter": "python",
   "pygments_lexer": "ipython2",
   "version": "2.7.12"
  }
 },
 "nbformat": 4,
 "nbformat_minor": 1
}
